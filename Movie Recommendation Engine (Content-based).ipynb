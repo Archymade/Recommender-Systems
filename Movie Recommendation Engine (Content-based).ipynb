{
 "cells": [
  {
   "cell_type": "code",
   "execution_count": 62,
   "metadata": {},
   "outputs": [],
   "source": [
    "import pandas as pd\n",
    "import numpy as np\n",
    "import matplotlib.pyplot as plt\n",
    "import seaborn as sns\n",
    "%matplotlib inline\n",
    "sns.set()"
   ]
  },
  {
   "cell_type": "code",
   "execution_count": 63,
   "metadata": {},
   "outputs": [],
   "source": [
    "df = pd.read_csv('movie_dataset.csv')"
   ]
  },
  {
   "cell_type": "code",
   "execution_count": 64,
   "metadata": {},
   "outputs": [
    {
     "data": {
      "text/plain": [
       "(4803, 24)"
      ]
     },
     "execution_count": 64,
     "metadata": {},
     "output_type": "execute_result"
    }
   ],
   "source": [
    "df.shape"
   ]
  },
  {
   "cell_type": "code",
   "execution_count": 65,
   "metadata": {},
   "outputs": [
    {
     "data": {
      "text/html": [
       "<div>\n",
       "<style scoped>\n",
       "    .dataframe tbody tr th:only-of-type {\n",
       "        vertical-align: middle;\n",
       "    }\n",
       "\n",
       "    .dataframe tbody tr th {\n",
       "        vertical-align: top;\n",
       "    }\n",
       "\n",
       "    .dataframe thead th {\n",
       "        text-align: right;\n",
       "    }\n",
       "</style>\n",
       "<table border=\"1\" class=\"dataframe\">\n",
       "  <thead>\n",
       "    <tr style=\"text-align: right;\">\n",
       "      <th></th>\n",
       "      <th>index</th>\n",
       "      <th>budget</th>\n",
       "      <th>genres</th>\n",
       "      <th>homepage</th>\n",
       "      <th>id</th>\n",
       "      <th>keywords</th>\n",
       "      <th>original_language</th>\n",
       "      <th>original_title</th>\n",
       "      <th>overview</th>\n",
       "      <th>popularity</th>\n",
       "      <th>...</th>\n",
       "      <th>runtime</th>\n",
       "      <th>spoken_languages</th>\n",
       "      <th>status</th>\n",
       "      <th>tagline</th>\n",
       "      <th>title</th>\n",
       "      <th>vote_average</th>\n",
       "      <th>vote_count</th>\n",
       "      <th>cast</th>\n",
       "      <th>crew</th>\n",
       "      <th>director</th>\n",
       "    </tr>\n",
       "  </thead>\n",
       "  <tbody>\n",
       "    <tr>\n",
       "      <th>0</th>\n",
       "      <td>0</td>\n",
       "      <td>237000000</td>\n",
       "      <td>Action Adventure Fantasy Science Fiction</td>\n",
       "      <td>http://www.avatarmovie.com/</td>\n",
       "      <td>19995</td>\n",
       "      <td>culture clash future space war space colony so...</td>\n",
       "      <td>en</td>\n",
       "      <td>Avatar</td>\n",
       "      <td>In the 22nd century, a paraplegic Marine is di...</td>\n",
       "      <td>150.437577</td>\n",
       "      <td>...</td>\n",
       "      <td>162.0</td>\n",
       "      <td>[{\"iso_639_1\": \"en\", \"name\": \"English\"}, {\"iso...</td>\n",
       "      <td>Released</td>\n",
       "      <td>Enter the World of Pandora.</td>\n",
       "      <td>Avatar</td>\n",
       "      <td>7.2</td>\n",
       "      <td>11800</td>\n",
       "      <td>Sam Worthington Zoe Saldana Sigourney Weaver S...</td>\n",
       "      <td>[{'name': 'Stephen E. Rivkin', 'gender': 0, 'd...</td>\n",
       "      <td>James Cameron</td>\n",
       "    </tr>\n",
       "    <tr>\n",
       "      <th>1</th>\n",
       "      <td>1</td>\n",
       "      <td>300000000</td>\n",
       "      <td>Adventure Fantasy Action</td>\n",
       "      <td>http://disney.go.com/disneypictures/pirates/</td>\n",
       "      <td>285</td>\n",
       "      <td>ocean drug abuse exotic island east india trad...</td>\n",
       "      <td>en</td>\n",
       "      <td>Pirates of the Caribbean: At World's End</td>\n",
       "      <td>Captain Barbossa, long believed to be dead, ha...</td>\n",
       "      <td>139.082615</td>\n",
       "      <td>...</td>\n",
       "      <td>169.0</td>\n",
       "      <td>[{\"iso_639_1\": \"en\", \"name\": \"English\"}]</td>\n",
       "      <td>Released</td>\n",
       "      <td>At the end of the world, the adventure begins.</td>\n",
       "      <td>Pirates of the Caribbean: At World's End</td>\n",
       "      <td>6.9</td>\n",
       "      <td>4500</td>\n",
       "      <td>Johnny Depp Orlando Bloom Keira Knightley Stel...</td>\n",
       "      <td>[{'name': 'Dariusz Wolski', 'gender': 2, 'depa...</td>\n",
       "      <td>Gore Verbinski</td>\n",
       "    </tr>\n",
       "    <tr>\n",
       "      <th>2</th>\n",
       "      <td>2</td>\n",
       "      <td>245000000</td>\n",
       "      <td>Action Adventure Crime</td>\n",
       "      <td>http://www.sonypictures.com/movies/spectre/</td>\n",
       "      <td>206647</td>\n",
       "      <td>spy based on novel secret agent sequel mi6</td>\n",
       "      <td>en</td>\n",
       "      <td>Spectre</td>\n",
       "      <td>A cryptic message from Bond’s past sends him o...</td>\n",
       "      <td>107.376788</td>\n",
       "      <td>...</td>\n",
       "      <td>148.0</td>\n",
       "      <td>[{\"iso_639_1\": \"fr\", \"name\": \"Fran\\u00e7ais\"},...</td>\n",
       "      <td>Released</td>\n",
       "      <td>A Plan No One Escapes</td>\n",
       "      <td>Spectre</td>\n",
       "      <td>6.3</td>\n",
       "      <td>4466</td>\n",
       "      <td>Daniel Craig Christoph Waltz L\\u00e9a Seydoux ...</td>\n",
       "      <td>[{'name': 'Thomas Newman', 'gender': 2, 'depar...</td>\n",
       "      <td>Sam Mendes</td>\n",
       "    </tr>\n",
       "    <tr>\n",
       "      <th>3</th>\n",
       "      <td>3</td>\n",
       "      <td>250000000</td>\n",
       "      <td>Action Crime Drama Thriller</td>\n",
       "      <td>http://www.thedarkknightrises.com/</td>\n",
       "      <td>49026</td>\n",
       "      <td>dc comics crime fighter terrorist secret ident...</td>\n",
       "      <td>en</td>\n",
       "      <td>The Dark Knight Rises</td>\n",
       "      <td>Following the death of District Attorney Harve...</td>\n",
       "      <td>112.312950</td>\n",
       "      <td>...</td>\n",
       "      <td>165.0</td>\n",
       "      <td>[{\"iso_639_1\": \"en\", \"name\": \"English\"}]</td>\n",
       "      <td>Released</td>\n",
       "      <td>The Legend Ends</td>\n",
       "      <td>The Dark Knight Rises</td>\n",
       "      <td>7.6</td>\n",
       "      <td>9106</td>\n",
       "      <td>Christian Bale Michael Caine Gary Oldman Anne ...</td>\n",
       "      <td>[{'name': 'Hans Zimmer', 'gender': 2, 'departm...</td>\n",
       "      <td>Christopher Nolan</td>\n",
       "    </tr>\n",
       "    <tr>\n",
       "      <th>4</th>\n",
       "      <td>4</td>\n",
       "      <td>260000000</td>\n",
       "      <td>Action Adventure Science Fiction</td>\n",
       "      <td>http://movies.disney.com/john-carter</td>\n",
       "      <td>49529</td>\n",
       "      <td>based on novel mars medallion space travel pri...</td>\n",
       "      <td>en</td>\n",
       "      <td>John Carter</td>\n",
       "      <td>John Carter is a war-weary, former military ca...</td>\n",
       "      <td>43.926995</td>\n",
       "      <td>...</td>\n",
       "      <td>132.0</td>\n",
       "      <td>[{\"iso_639_1\": \"en\", \"name\": \"English\"}]</td>\n",
       "      <td>Released</td>\n",
       "      <td>Lost in our world, found in another.</td>\n",
       "      <td>John Carter</td>\n",
       "      <td>6.1</td>\n",
       "      <td>2124</td>\n",
       "      <td>Taylor Kitsch Lynn Collins Samantha Morton Wil...</td>\n",
       "      <td>[{'name': 'Andrew Stanton', 'gender': 2, 'depa...</td>\n",
       "      <td>Andrew Stanton</td>\n",
       "    </tr>\n",
       "  </tbody>\n",
       "</table>\n",
       "<p>5 rows × 24 columns</p>\n",
       "</div>"
      ],
      "text/plain": [
       "   index     budget                                    genres  \\\n",
       "0      0  237000000  Action Adventure Fantasy Science Fiction   \n",
       "1      1  300000000                  Adventure Fantasy Action   \n",
       "2      2  245000000                    Action Adventure Crime   \n",
       "3      3  250000000               Action Crime Drama Thriller   \n",
       "4      4  260000000          Action Adventure Science Fiction   \n",
       "\n",
       "                                       homepage      id  \\\n",
       "0                   http://www.avatarmovie.com/   19995   \n",
       "1  http://disney.go.com/disneypictures/pirates/     285   \n",
       "2   http://www.sonypictures.com/movies/spectre/  206647   \n",
       "3            http://www.thedarkknightrises.com/   49026   \n",
       "4          http://movies.disney.com/john-carter   49529   \n",
       "\n",
       "                                            keywords original_language  \\\n",
       "0  culture clash future space war space colony so...                en   \n",
       "1  ocean drug abuse exotic island east india trad...                en   \n",
       "2         spy based on novel secret agent sequel mi6                en   \n",
       "3  dc comics crime fighter terrorist secret ident...                en   \n",
       "4  based on novel mars medallion space travel pri...                en   \n",
       "\n",
       "                             original_title  \\\n",
       "0                                    Avatar   \n",
       "1  Pirates of the Caribbean: At World's End   \n",
       "2                                   Spectre   \n",
       "3                     The Dark Knight Rises   \n",
       "4                               John Carter   \n",
       "\n",
       "                                            overview  popularity  ... runtime  \\\n",
       "0  In the 22nd century, a paraplegic Marine is di...  150.437577  ...   162.0   \n",
       "1  Captain Barbossa, long believed to be dead, ha...  139.082615  ...   169.0   \n",
       "2  A cryptic message from Bond’s past sends him o...  107.376788  ...   148.0   \n",
       "3  Following the death of District Attorney Harve...  112.312950  ...   165.0   \n",
       "4  John Carter is a war-weary, former military ca...   43.926995  ...   132.0   \n",
       "\n",
       "                                    spoken_languages    status  \\\n",
       "0  [{\"iso_639_1\": \"en\", \"name\": \"English\"}, {\"iso...  Released   \n",
       "1           [{\"iso_639_1\": \"en\", \"name\": \"English\"}]  Released   \n",
       "2  [{\"iso_639_1\": \"fr\", \"name\": \"Fran\\u00e7ais\"},...  Released   \n",
       "3           [{\"iso_639_1\": \"en\", \"name\": \"English\"}]  Released   \n",
       "4           [{\"iso_639_1\": \"en\", \"name\": \"English\"}]  Released   \n",
       "\n",
       "                                          tagline  \\\n",
       "0                     Enter the World of Pandora.   \n",
       "1  At the end of the world, the adventure begins.   \n",
       "2                           A Plan No One Escapes   \n",
       "3                                 The Legend Ends   \n",
       "4            Lost in our world, found in another.   \n",
       "\n",
       "                                      title vote_average vote_count  \\\n",
       "0                                    Avatar          7.2      11800   \n",
       "1  Pirates of the Caribbean: At World's End          6.9       4500   \n",
       "2                                   Spectre          6.3       4466   \n",
       "3                     The Dark Knight Rises          7.6       9106   \n",
       "4                               John Carter          6.1       2124   \n",
       "\n",
       "                                                cast  \\\n",
       "0  Sam Worthington Zoe Saldana Sigourney Weaver S...   \n",
       "1  Johnny Depp Orlando Bloom Keira Knightley Stel...   \n",
       "2  Daniel Craig Christoph Waltz L\\u00e9a Seydoux ...   \n",
       "3  Christian Bale Michael Caine Gary Oldman Anne ...   \n",
       "4  Taylor Kitsch Lynn Collins Samantha Morton Wil...   \n",
       "\n",
       "                                                crew           director  \n",
       "0  [{'name': 'Stephen E. Rivkin', 'gender': 0, 'd...      James Cameron  \n",
       "1  [{'name': 'Dariusz Wolski', 'gender': 2, 'depa...     Gore Verbinski  \n",
       "2  [{'name': 'Thomas Newman', 'gender': 2, 'depar...         Sam Mendes  \n",
       "3  [{'name': 'Hans Zimmer', 'gender': 2, 'departm...  Christopher Nolan  \n",
       "4  [{'name': 'Andrew Stanton', 'gender': 2, 'depa...     Andrew Stanton  \n",
       "\n",
       "[5 rows x 24 columns]"
      ]
     },
     "execution_count": 65,
     "metadata": {},
     "output_type": "execute_result"
    }
   ],
   "source": [
    "df.head()"
   ]
  },
  {
   "cell_type": "code",
   "execution_count": 66,
   "metadata": {},
   "outputs": [
    {
     "data": {
      "text/plain": [
       "24"
      ]
     },
     "execution_count": 66,
     "metadata": {},
     "output_type": "execute_result"
    }
   ],
   "source": [
    "len(df.columns)"
   ]
  },
  {
   "cell_type": "code",
   "execution_count": 67,
   "metadata": {},
   "outputs": [
    {
     "data": {
      "text/plain": [
       "4542"
      ]
     },
     "execution_count": 67,
     "metadata": {},
     "output_type": "execute_result"
    }
   ],
   "source": [
    "len(df.loc[df.title == df.original_title])"
   ]
  },
  {
   "cell_type": "code",
   "execution_count": 68,
   "metadata": {},
   "outputs": [
    {
     "data": {
      "text/plain": [
       "Index(['index', 'budget', 'genres', 'homepage', 'id', 'keywords',\n",
       "       'original_language', 'original_title', 'overview', 'popularity',\n",
       "       'production_companies', 'production_countries', 'release_date',\n",
       "       'revenue', 'runtime', 'spoken_languages', 'status', 'tagline', 'title',\n",
       "       'vote_average', 'vote_count', 'cast', 'crew', 'director'],\n",
       "      dtype='object')"
      ]
     },
     "execution_count": 68,
     "metadata": {},
     "output_type": "execute_result"
    }
   ],
   "source": [
    "df.columns"
   ]
  },
  {
   "cell_type": "code",
   "execution_count": 69,
   "metadata": {},
   "outputs": [
    {
     "data": {
      "text/plain": [
       "False"
      ]
     },
     "execution_count": 69,
     "metadata": {},
     "output_type": "execute_result"
    }
   ],
   "source": [
    "df.id.isnull().any()"
   ]
  },
  {
   "cell_type": "code",
   "execution_count": 70,
   "metadata": {},
   "outputs": [],
   "source": [
    "important_features = ['title', 'original_title', 'genres', 'keywords', 'overview', 'tagline', 'cast', 'director', 'production_companies']"
   ]
  },
  {
   "cell_type": "code",
   "execution_count": 71,
   "metadata": {},
   "outputs": [
    {
     "data": {
      "text/plain": [
       "title                     0\n",
       "original_title            0\n",
       "genres                   28\n",
       "keywords                412\n",
       "overview                  3\n",
       "tagline                 844\n",
       "cast                     43\n",
       "director                 30\n",
       "production_companies      0\n",
       "dtype: int64"
      ]
     },
     "execution_count": 71,
     "metadata": {},
     "output_type": "execute_result"
    }
   ],
   "source": [
    "df[important_features].isnull().sum()"
   ]
  },
  {
   "cell_type": "code",
   "execution_count": 72,
   "metadata": {},
   "outputs": [],
   "source": [
    "for feature in important_features:\n",
    "    df[feature].fillna(value = '', inplace = True)"
   ]
  },
  {
   "cell_type": "code",
   "execution_count": 73,
   "metadata": {},
   "outputs": [
    {
     "data": {
      "text/plain": [
       "title                   0\n",
       "original_title          0\n",
       "genres                  0\n",
       "keywords                0\n",
       "overview                0\n",
       "tagline                 0\n",
       "cast                    0\n",
       "director                0\n",
       "production_companies    0\n",
       "dtype: int64"
      ]
     },
     "execution_count": 73,
     "metadata": {},
     "output_type": "execute_result"
    }
   ],
   "source": [
    "df[important_features].isnull().sum()"
   ]
  },
  {
   "cell_type": "code",
   "execution_count": 74,
   "metadata": {},
   "outputs": [],
   "source": [
    "def combine_features(df):\n",
    "    return df['original_title'] + ' ' + df['genres'] + ' ' + df['keywords'] + ' ' + df['overview'] + ' ' + df['tagline'] + ' ' + df['cast'] + ' ' + df['spoken_languages'] + ' ' + df['production_companies'] + ' ' + df['director']"
   ]
  },
  {
   "cell_type": "code",
   "execution_count": 75,
   "metadata": {},
   "outputs": [],
   "source": [
    "df['final_features'] = combine_features(df)"
   ]
  },
  {
   "cell_type": "code",
   "execution_count": 76,
   "metadata": {},
   "outputs": [],
   "source": [
    "from sklearn.feature_extraction.text import CountVectorizer"
   ]
  },
  {
   "cell_type": "code",
   "execution_count": 77,
   "metadata": {},
   "outputs": [],
   "source": [
    "cv = CountVectorizer()"
   ]
  },
  {
   "cell_type": "code",
   "execution_count": 78,
   "metadata": {},
   "outputs": [],
   "source": [
    "count_matrix = cv.fit_transform(df['final_features'])"
   ]
  },
  {
   "cell_type": "code",
   "execution_count": 79,
   "metadata": {},
   "outputs": [],
   "source": [
    "from sklearn.metrics.pairwise import cosine_similarity"
   ]
  },
  {
   "cell_type": "code",
   "execution_count": 80,
   "metadata": {},
   "outputs": [],
   "source": [
    "movie_similarity = cosine_similarity(count_matrix)"
   ]
  },
  {
   "cell_type": "code",
   "execution_count": 81,
   "metadata": {},
   "outputs": [],
   "source": [
    "movie_similarity = 100*movie_similarity"
   ]
  },
  {
   "cell_type": "code",
   "execution_count": 82,
   "metadata": {},
   "outputs": [
    {
     "data": {
      "text/plain": [
       "(4803, 4803)"
      ]
     },
     "execution_count": 82,
     "metadata": {},
     "output_type": "execute_result"
    }
   ],
   "source": [
    "movie_similarity.shape"
   ]
  },
  {
   "cell_type": "code",
   "execution_count": 83,
   "metadata": {},
   "outputs": [],
   "source": [
    "def get_similar_movies(customer_preferences, df, movie_similarity):\n",
    "    \n",
    "    movie_database = list(df['title'].values)\n",
    "    total_recommendations = []\n",
    "    \n",
    "    for movie in customer_preferences:\n",
    "        if movie in movie_database:\n",
    "            movie_id = df.loc[df['title'] == movie, 'index'].values[0]\n",
    "            #print(movie_id)\n",
    "        else:\n",
    "            raise Exception(f'Movie : {movie} not present in our database at the moment')\n",
    "            \n",
    "        similar_movies = list(movie_similarity[movie_id, :])\n",
    "        similar_movie_list = enumerate(similar_movies)\n",
    "        similar_movie_list = sorted(similar_movie_list, key  = lambda x: x[1], reverse = True)\n",
    "        similar_movie_list = similar_movie_list[1:]\n",
    "        #print(similar_movie_list)\n",
    "        total_recommendations.extend(similar_movie_list)\n",
    "        \n",
    "    #print(total_recommendations)\n",
    "        \n",
    "    total_recommendations = sorted(total_recommendations, key = lambda x: x[1], reverse = True)\n",
    "    \n",
    "    return movie_database, total_recommendations"
   ]
  },
  {
   "cell_type": "code",
   "execution_count": 84,
   "metadata": {},
   "outputs": [],
   "source": [
    "def recommend(customer_preferences, df, movie_similarity):\n",
    "    \n",
    "    movie_database, recommendations = get_similar_movies(customer_preferences, df, movie_similarity)\n",
    "    \n",
    "    print('Based on your observed preferences, the following movies might be a good fit.\\n')\n",
    "    movie_ids = []\n",
    "    scores = []\n",
    "    movie_scores = []\n",
    "    \n",
    "    for movie_id, score in recommendations:\n",
    "        movie_ids.append(movie_id)\n",
    "        scores.append(score)\n",
    "        \n",
    "    movies_list = [df.loc[df['index'] == movie_id, 'title'].values[0] for movie_id in movie_ids]\n",
    "    movie_dict = {}\n",
    "    #print(movies_list)\n",
    "    \n",
    "    for t in zip(movies_list, scores):\n",
    "        movie_scores.append(t)\n",
    "\n",
    "          \n",
    "    for k, v in movie_scores:\n",
    "        if k in movie_dict.keys():\n",
    "            if v > movie_dict[k]:\n",
    "                movie_dict[k] = v\n",
    "            else:\n",
    "                continue\n",
    "        else:\n",
    "            movie_dict[k] = v\n",
    "    \n",
    "    final_rec = pd.Series(data = movie_dict)\n",
    "    \n",
    "    movie_recommendation_df = pd.DataFrame(final_rec, columns = ['Similarity Scores (%)'])\n",
    "    movie_recommendation_df.insert(loc = 1, column = 'Genres',\n",
    "                                   value = [df.loc[df['title'] == k]['genres'] for k, v in list(movie_dict.items())])\n",
    "    \n",
    "    \n",
    "    movie_recommendation_df = movie_recommendation_df.sort_values(by = 'Similarity Scores (%)', ascending = False)\n",
    "        \n",
    "    return movie_recommendation_df.head(n = 20)\n",
    "        "
   ]
  },
  {
   "cell_type": "code",
   "execution_count": 90,
   "metadata": {},
   "outputs": [],
   "source": [
    "customer_preferences = ['Thor', 'Spider-Man']"
   ]
  },
  {
   "cell_type": "code",
   "execution_count": 91,
   "metadata": {},
   "outputs": [
    {
     "name": "stdout",
     "output_type": "stream",
     "text": [
      "Based on your observed preferences, the following movies might be a good fit.\n",
      "\n"
     ]
    },
    {
     "data": {
      "text/html": [
       "<div>\n",
       "<style scoped>\n",
       "    .dataframe tbody tr th:only-of-type {\n",
       "        vertical-align: middle;\n",
       "    }\n",
       "\n",
       "    .dataframe tbody tr th {\n",
       "        vertical-align: top;\n",
       "    }\n",
       "\n",
       "    .dataframe thead th {\n",
       "        text-align: right;\n",
       "    }\n",
       "</style>\n",
       "<table border=\"1\" class=\"dataframe\">\n",
       "  <thead>\n",
       "    <tr style=\"text-align: right;\">\n",
       "      <th></th>\n",
       "      <th>Similarity Scores (%)</th>\n",
       "      <th>Genres</th>\n",
       "    </tr>\n",
       "  </thead>\n",
       "  <tbody>\n",
       "    <tr>\n",
       "      <th>Thor: The Dark World</th>\n",
       "      <td>54.972730</td>\n",
       "      <td>126    Action Adventure Fantasy\n",
       "Name: genres, ...</td>\n",
       "    </tr>\n",
       "    <tr>\n",
       "      <th>Spider-Man 3</th>\n",
       "      <td>54.221541</td>\n",
       "      <td>5    Fantasy Action Adventure\n",
       "Name: genres, dt...</td>\n",
       "    </tr>\n",
       "    <tr>\n",
       "      <th>Gladiator</th>\n",
       "      <td>48.535521</td>\n",
       "      <td>274    Action Drama Adventure\n",
       "Name: genres, dt...</td>\n",
       "    </tr>\n",
       "    <tr>\n",
       "      <th>Spider-Man 2</th>\n",
       "      <td>48.483389</td>\n",
       "      <td>30    Action Adventure Fantasy\n",
       "Name: genres, d...</td>\n",
       "    </tr>\n",
       "    <tr>\n",
       "      <th>Avengers: Age of Ultron</th>\n",
       "      <td>48.308508</td>\n",
       "      <td>7    Action Adventure Science Fiction\n",
       "Name: ge...</td>\n",
       "    </tr>\n",
       "    <tr>\n",
       "      <th>The Amazing Spider-Man</th>\n",
       "      <td>46.935693</td>\n",
       "      <td>20    Action Adventure Fantasy\n",
       "Name: genres, d...</td>\n",
       "    </tr>\n",
       "    <tr>\n",
       "      <th>Little Nicky</th>\n",
       "      <td>46.899858</td>\n",
       "      <td>471    Comedy Fantasy Romance\n",
       "Name: genres, dt...</td>\n",
       "    </tr>\n",
       "    <tr>\n",
       "      <th>Pirates of the Caribbean: At World's End</th>\n",
       "      <td>46.023132</td>\n",
       "      <td>1    Adventure Fantasy Action\n",
       "Name: genres, dt...</td>\n",
       "    </tr>\n",
       "    <tr>\n",
       "      <th>Hart's War</th>\n",
       "      <td>45.549870</td>\n",
       "      <td>599    Drama War\n",
       "Name: genres, dtype: object</td>\n",
       "    </tr>\n",
       "    <tr>\n",
       "      <th>The Legend of Hercules</th>\n",
       "      <td>45.510034</td>\n",
       "      <td>610    Action Adventure\n",
       "Name: genres, dtype: o...</td>\n",
       "    </tr>\n",
       "    <tr>\n",
       "      <th>The Last Samurai</th>\n",
       "      <td>44.443510</td>\n",
       "      <td>156    Drama Action War History\n",
       "Name: genres, ...</td>\n",
       "    </tr>\n",
       "    <tr>\n",
       "      <th>Journey to the Center of the Earth</th>\n",
       "      <td>44.322775</td>\n",
       "      <td>1044    Action Science Fiction Adventure Comed...</td>\n",
       "    </tr>\n",
       "    <tr>\n",
       "      <th>Thunder and the House of Magic</th>\n",
       "      <td>44.095243</td>\n",
       "      <td>1481    Family Fantasy Animation Adventure\n",
       "Nam...</td>\n",
       "    </tr>\n",
       "    <tr>\n",
       "      <th>Hercules</th>\n",
       "      <td>43.611220</td>\n",
       "      <td>304    Action Adventure\n",
       "Name: genres, dtype: o...</td>\n",
       "    </tr>\n",
       "    <tr>\n",
       "      <th>Deep Impact</th>\n",
       "      <td>43.451784</td>\n",
       "      <td>432    Action Drama Romance\n",
       "Name: genres, dtyp...</td>\n",
       "    </tr>\n",
       "    <tr>\n",
       "      <th>Dracula Untold</th>\n",
       "      <td>43.279999</td>\n",
       "      <td>589    Horror Action Drama Fantasy War\n",
       "Name: g...</td>\n",
       "    </tr>\n",
       "    <tr>\n",
       "      <th>Ponyo</th>\n",
       "      <td>43.253751</td>\n",
       "      <td>1471    Animation Family\n",
       "Name: genres, dtype: ...</td>\n",
       "    </tr>\n",
       "    <tr>\n",
       "      <th>How to Train Your Dragon 2</th>\n",
       "      <td>43.247499</td>\n",
       "      <td>160    Fantasy Action Adventure Animation Come...</td>\n",
       "    </tr>\n",
       "    <tr>\n",
       "      <th>Armageddon</th>\n",
       "      <td>43.065669</td>\n",
       "      <td>149    Action Thriller Science Fiction Adventu...</td>\n",
       "    </tr>\n",
       "    <tr>\n",
       "      <th>Iron Man 2</th>\n",
       "      <td>43.051293</td>\n",
       "      <td>79    Adventure Action Science Fiction\n",
       "Name: g...</td>\n",
       "    </tr>\n",
       "  </tbody>\n",
       "</table>\n",
       "</div>"
      ],
      "text/plain": [
       "                                          Similarity Scores (%)  \\\n",
       "Thor: The Dark World                                  54.972730   \n",
       "Spider-Man 3                                          54.221541   \n",
       "Gladiator                                             48.535521   \n",
       "Spider-Man 2                                          48.483389   \n",
       "Avengers: Age of Ultron                               48.308508   \n",
       "The Amazing Spider-Man                                46.935693   \n",
       "Little Nicky                                          46.899858   \n",
       "Pirates of the Caribbean: At World's End              46.023132   \n",
       "Hart's War                                            45.549870   \n",
       "The Legend of Hercules                                45.510034   \n",
       "The Last Samurai                                      44.443510   \n",
       "Journey to the Center of the Earth                    44.322775   \n",
       "Thunder and the House of Magic                        44.095243   \n",
       "Hercules                                              43.611220   \n",
       "Deep Impact                                           43.451784   \n",
       "Dracula Untold                                        43.279999   \n",
       "Ponyo                                                 43.253751   \n",
       "How to Train Your Dragon 2                            43.247499   \n",
       "Armageddon                                            43.065669   \n",
       "Iron Man 2                                            43.051293   \n",
       "\n",
       "                                                                                     Genres  \n",
       "Thor: The Dark World                      126    Action Adventure Fantasy\n",
       "Name: genres, ...  \n",
       "Spider-Man 3                              5    Fantasy Action Adventure\n",
       "Name: genres, dt...  \n",
       "Gladiator                                 274    Action Drama Adventure\n",
       "Name: genres, dt...  \n",
       "Spider-Man 2                              30    Action Adventure Fantasy\n",
       "Name: genres, d...  \n",
       "Avengers: Age of Ultron                   7    Action Adventure Science Fiction\n",
       "Name: ge...  \n",
       "The Amazing Spider-Man                    20    Action Adventure Fantasy\n",
       "Name: genres, d...  \n",
       "Little Nicky                              471    Comedy Fantasy Romance\n",
       "Name: genres, dt...  \n",
       "Pirates of the Caribbean: At World's End  1    Adventure Fantasy Action\n",
       "Name: genres, dt...  \n",
       "Hart's War                                     599    Drama War\n",
       "Name: genres, dtype: object  \n",
       "The Legend of Hercules                    610    Action Adventure\n",
       "Name: genres, dtype: o...  \n",
       "The Last Samurai                          156    Drama Action War History\n",
       "Name: genres, ...  \n",
       "Journey to the Center of the Earth        1044    Action Science Fiction Adventure Comed...  \n",
       "Thunder and the House of Magic            1481    Family Fantasy Animation Adventure\n",
       "Nam...  \n",
       "Hercules                                  304    Action Adventure\n",
       "Name: genres, dtype: o...  \n",
       "Deep Impact                               432    Action Drama Romance\n",
       "Name: genres, dtyp...  \n",
       "Dracula Untold                            589    Horror Action Drama Fantasy War\n",
       "Name: g...  \n",
       "Ponyo                                     1471    Animation Family\n",
       "Name: genres, dtype: ...  \n",
       "How to Train Your Dragon 2                160    Fantasy Action Adventure Animation Come...  \n",
       "Armageddon                                149    Action Thriller Science Fiction Adventu...  \n",
       "Iron Man 2                                79    Adventure Action Science Fiction\n",
       "Name: g...  "
      ]
     },
     "execution_count": 91,
     "metadata": {},
     "output_type": "execute_result"
    }
   ],
   "source": [
    "recommend(customer_preferences, df, movie_similarity)"
   ]
  },
  {
   "cell_type": "code",
   "execution_count": 87,
   "metadata": {},
   "outputs": [
    {
     "data": {
      "text/plain": [
       "104    A packed cruise ship traveling the Atlantic is...\n",
       "Name: overview, dtype: object"
      ]
     },
     "execution_count": 87,
     "metadata": {},
     "output_type": "execute_result"
    }
   ],
   "source": [
    "df.loc[df['title'] == 'Poseidon']['overview']"
   ]
  },
  {
   "cell_type": "code",
   "execution_count": null,
   "metadata": {},
   "outputs": [],
   "source": []
  }
 ],
 "metadata": {
  "kernelspec": {
   "display_name": "Python 3",
   "language": "python",
   "name": "python3"
  },
  "language_info": {
   "codemirror_mode": {
    "name": "ipython",
    "version": 3
   },
   "file_extension": ".py",
   "mimetype": "text/x-python",
   "name": "python",
   "nbconvert_exporter": "python",
   "pygments_lexer": "ipython3",
   "version": "3.8.3"
  }
 },
 "nbformat": 4,
 "nbformat_minor": 4
}
